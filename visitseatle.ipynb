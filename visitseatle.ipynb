{
 "cells": [
  {
   "cell_type": "code",
   "execution_count": 1,
   "metadata": {},
   "outputs": [],
   "source": [
    "import requests\n",
    "from bs4 import BeautifulSoup\n",
    "import time"
   ]
  },
  {
   "cell_type": "code",
   "execution_count": 2,
   "metadata": {},
   "outputs": [
    {
     "name": "stdout",
     "output_type": "stream",
     "text": [
      "['https://visitseattle.org/events/empty-graves/', 'https://visitseattle.org/events/evan-dando-of-the-lemonheads/', 'https://visitseattle.org/events/eves-bayou-smartfilms-black-luxury/', 'https://visitseattle.org/events/frond/', 'https://visitseattle.org/events/marc-e-bassy/', 'https://visitseattle.org/events/maria-jose-llergo/', 'https://visitseattle.org/events/shawn-phillips/', 'https://visitseattle.org/events/atlus/', 'https://visitseattle.org/events/critical-mass-big-band/', 'https://visitseattle.org/events/rick-estrin-and-the-nightcats/', 'https://visitseattle.org/events/theresa-caputo-live/', 'https://visitseattle.org/events/calidore-quartet-abeo-quartet/', 'https://visitseattle.org/events/debut/', 'https://visitseattle.org/events/holding-movement/', 'https://visitseattle.org/events/international-womens-day-live-sessions-concert/', 'https://visitseattle.org/events/karla-bonoff/', 'https://visitseattle.org/events/seattle-kraken-vs-winnipeg-jets/', 'https://visitseattle.org/events/frye-in-focus-lineajes-frye-salon/', 'https://visitseattle.org/events/xthe-life-and-times-of-malcolm-x/', 'https://visitseattle.org/events/bach-st-john-passion/', 'https://visitseattle.org/events/ariel-pink/', 'https://visitseattle.org/events/biblioteka/', 'https://visitseattle.org/events/carnaval-with-entremundos-big-band/', 'https://visitseattle.org/events/coco-montoya/', 'https://visitseattle.org/events/helene-grimaud/', 'https://visitseattle.org/events/josiah-and-the-bonnevilles/', 'https://visitseattle.org/events/mahan-esfahan/', 'https://visitseattle.org/events/positive-fragmentation/', 'https://visitseattle.org/events/antonio-m-gomez-lineajes/', 'https://visitseattle.org/events/soren-solkaer-sort-sol/', 'https://visitseattle.org/events/luchadora/', 'https://visitseattle.org/events/deseo-carmin/', 'https://visitseattle.org/events/rhapsody-in-shmaltz/', 'https://visitseattle.org/events/angie-mcmahon/', 'https://visitseattle.org/events/earshot-golden-ear-awards-party-jun-iida/', 'https://visitseattle.org/events/sasha-lapointe/', 'https://visitseattle.org/events/wild-cats-revealed-national-geographic-live/', 'https://visitseattle.org/events/seattle-kraken-vs-vegas-golden-knights/', 'https://visitseattle.org/events/special-efx-all-stars/', 'https://visitseattle.org/events/black-uhuru/', 'https://visitseattle.org/events/cody-bartels/', 'https://visitseattle.org/events/eyedress/', 'https://visitseattle.org/events/kendra-morris/', 'https://visitseattle.org/events/my-dinner-with-sam/', 'https://visitseattle.org/events/tim-berne-trio/', 'https://visitseattle.org/events/cool-company/', 'https://visitseattle.org/events/seattle-kraken-vs-washington-capitals/', 'https://visitseattle.org/events/taste-washington-pacific-standard/', 'https://visitseattle.org/events/the-lord-of-the-rings-the-return-of-the-king/', 'https://visitseattle.org/events/autoheart/', 'https://visitseattle.org/events/drew-martin/', 'https://visitseattle.org/events/goose-vargis/', 'https://visitseattle.org/events/mitis/', 'https://visitseattle.org/events/shakey/', 'https://visitseattle.org/events/taste-washington-the-new-vintage/', 'https://visitseattle.org/events/taylor-rave/', 'https://visitseattle.org/events/the-snuts/', 'https://visitseattle.org/events/tuomo-and-markus-concert/', 'https://visitseattle.org/events/mark-morris-dance-group-the-look-of-love/', 'https://visitseattle.org/events/sibelius-nielsen/', 'https://visitseattle.org/events/tacoma-stars-vs-chihuahua-savage/', 'https://visitseattle.org/events/matt-hansen/', 'https://visitseattle.org/events/ricky-montgomery/', 'https://visitseattle.org/events/seattle-kraken-vs-nashville-predators/', 'https://visitseattle.org/events/seattle-sounders-fc-vs-colorado-rapids/', 'https://visitseattle.org/events/taste-washington-the-seminars/', 'https://visitseattle.org/events/warren-zeiders/', 'https://visitseattle.org/events/native-portraiture-power-and-perception/', 'https://visitseattle.org/events/places-to-call-home-settlements-in-the-west/', 'https://visitseattle.org/events/nobody-lives-here/', 'https://visitseattle.org/events/seattle-jewish-film-festival/', 'https://visitseattle.org/events/rootabaga-country/', 'https://visitseattle.org/events/judith-hill-letters-from-a-black-widow-tour/', 'https://visitseattle.org/events/festal-irish-festival-seattle/', 'https://visitseattle.org/events/taste-washington-the-grand-tasting/', 'https://visitseattle.org/events/bas/', 'https://visitseattle.org/events/brad-parsons/', 'https://visitseattle.org/events/rylan-fischer/', 'https://visitseattle.org/events/umphreys-mcgee/', 'https://visitseattle.org/events/68/', 'https://visitseattle.org/events/jimmy-chamberlin-complex/', 'https://visitseattle.org/events/seattle-kraken-vs-buffalo-sabres/', 'https://visitseattle.org/events/taste-washington-no-frills/', 'https://visitseattle.org/events/ana-tijoux/', 'https://visitseattle.org/events/darkest-hour/', 'https://visitseattle.org/events/dragontail-peak/', 'https://visitseattle.org/events/el-perro-del-mar/', 'https://visitseattle.org/events/letterkenny/', 'https://visitseattle.org/events/true-loves/', 'https://visitseattle.org/events/combichrist/', 'https://visitseattle.org/events/jon-vinyl/', 'https://visitseattle.org/events/mayuan-poet/', 'https://visitseattle.org/events/the-forensic-archive-of-landscapes-paloma-contreras-lomas/', 'https://visitseattle.org/events/flyana-boss/', 'https://visitseattle.org/events/glass-beach/', 'https://visitseattle.org/events/barely-alive/', 'https://visitseattle.org/events/dadi-freyr/', 'https://visitseattle.org/events/taste-washington-dinner-series/', 'https://visitseattle.org/events/alkaline-trio/', 'https://visitseattle.org/events/an-encomium-for-doug-crutchfield/', 'https://visitseattle.org/events/jennifer-hartswick-band/', 'https://visitseattle.org/events/monster-energy-ama-supercross/', 'https://visitseattle.org/events/tacoma-stars-vs-empire-strykers/', 'https://visitseattle.org/events/somethings-afoot/', 'https://visitseattle.org/events/one-thousand-pieces/', 'https://visitseattle.org/events/marcus-miller/', 'https://visitseattle.org/events/simon-trpceski-plays-tchaikovsky/', 'https://visitseattle.org/events/blank-canvas/', 'https://visitseattle.org/events/celebrate-holi-spring-festival-of-colors-from-south-asia/', 'https://visitseattle.org/events/festal-seattles-french-fest/', 'https://visitseattle.org/events/kathy-ross-serious-fun/', 'https://visitseattle.org/events/seattle-kraken-vs-montreal-canadiens/', 'https://visitseattle.org/events/ann-annie/', 'https://visitseattle.org/events/jonah-kagen/', 'https://visitseattle.org/events/kim-dracula/', 'https://visitseattle.org/events/tea-obreht/', 'https://visitseattle.org/events/seattle-kraken-vs-anaheim-ducks/', 'https://visitseattle.org/events/omar-sosa-quarteto-americanos/', 'https://visitseattle.org/events/jazz-underground/', 'https://visitseattle.org/events/paris-shadows/', 'https://visitseattle.org/events/andre-nikatina/', 'https://visitseattle.org/events/foo-gazzi/', 'https://visitseattle.org/events/health/', 'https://visitseattle.org/events/seattle-kraken-vs-anaheim-ducks-2/', 'https://visitseattle.org/events/andy-coe-band/', 'https://visitseattle.org/events/dj-dan-with-max-gain/', 'https://visitseattle.org/events/hamdi/', 'https://visitseattle.org/events/loud-luxury/', 'https://visitseattle.org/events/sam-remix/', 'https://visitseattle.org/events/tim-mcgraw/', 'https://visitseattle.org/events/fragments-of-the-sea-ii/', 'https://visitseattle.org/events/harold-and-the-purple-crayon/', 'https://visitseattle.org/events/cowboy-disco/', 'https://visitseattle.org/events/danny-brown/', 'https://visitseattle.org/events/monster-jam/', 'https://visitseattle.org/events/seattle-kraken-vs-dallas-stars/', 'https://visitseattle.org/events/timmy-trumpets-freakshow/', 'https://visitseattle.org/events/illuminate-glass-art-for-early-learners/', 'https://visitseattle.org/events/al-youngs-1970-dodge-challenger-drag-racer/', 'https://visitseattle.org/events/shine-on-seattle/', 'https://visitseattle.org/events/exhibition-tour-calder/', 'https://visitseattle.org/events/public-tour-highlights-from-sams-collection/', 'https://visitseattle.org/events/public-tour-journeys-through-time-and-space/', 'https://visitseattle.org/events/sanctuary-city/', 'https://visitseattle.org/events/stew/', 'https://visitseattle.org/events/sakura-con-2024/', 'https://visitseattle.org/events/noize-mc/', 'https://visitseattle.org/events/joey-harkum/', 'https://visitseattle.org/events/the-350s/', 'https://visitseattle.org/events/sleater-kinney/', 'https://visitseattle.org/events/hippie-sabotage/', 'https://visitseattle.org/events/aan/', 'https://visitseattle.org/events/luis-miguel/', 'https://visitseattle.org/events/taylor-raven-and-duke-kim-in-recital/', 'https://visitseattle.org/events/arizona-zervas/', 'https://visitseattle.org/events/garza-of-thievery-corporation/', 'https://visitseattle.org/events/jo-koy/', 'https://visitseattle.org/events/r-a-p-ferreira/', 'https://visitseattle.org/events/the-veronicas/', 'https://visitseattle.org/events/weep-wave/', 'https://visitseattle.org/events/xavi/', 'https://visitseattle.org/events/copland-appalachian-spring/', 'https://visitseattle.org/events/asher-roth/', 'https://visitseattle.org/events/peekaboo/', 'https://visitseattle.org/events/red-bull-lords-of-floor/', 'https://visitseattle.org/events/seattle-sounders-fc-vs-cf-montreal/', 'https://visitseattle.org/events/sultan-and-shepard/', 'https://visitseattle.org/events/tom-segura/', 'https://visitseattle.org/events/la-vaughn-belle-a-history-of-unruly-returns/', 'https://visitseattle.org/events/beetlejuice/', 'https://visitseattle.org/events/31-nights/', 'https://visitseattle.org/events/mom-jeans/', 'https://visitseattle.org/events/re-re-tros-north-america-tour/', 'https://visitseattle.org/events/american-broke/', 'https://visitseattle.org/events/seattle-kraken-vs-arizona-coyotes/', 'https://visitseattle.org/events/alice-phoebe-lou/', 'https://visitseattle.org/events/all-of-our-cornbread/', 'https://visitseattle.org/events/hot-rod/', 'https://visitseattle.org/events/hurricane-dreamz/', 'https://visitseattle.org/events/seattle-kraken-vs-san-jose-sharks/', 'https://visitseattle.org/events/set-it-off/', 'https://visitseattle.org/events/the-percussion-sounds-from-home/', 'https://visitseattle.org/events/afrobeats-to-the-world/', 'https://visitseattle.org/events/squirt/', 'https://visitseattle.org/events/tina-fey-and-amy-poehler-restless-leg-tour/', 'https://visitseattle.org/events/honoring-50-years-of-papunya-tula-painting/', 'https://visitseattle.org/events/the-moors/', 'https://visitseattle.org/events/mahler-symphony-no-3/', 'https://visitseattle.org/events/festal-seattle-cherry-blossom-japanese-cultural-festival/', 'https://visitseattle.org/events/best-of-the-northwest-spring-show/', 'https://visitseattle.org/events/an-evening-with-jinjoo-cho/', 'https://visitseattle.org/events/dvorak-symphony-no-6/', 'https://visitseattle.org/events/seattle-sounders-fc-vs-vancouver-whitecaps-fc/', 'https://visitseattle.org/events/the-seasons-canon/', 'https://visitseattle.org/events/drum-tao-30th-anniversary/', 'https://visitseattle.org/events/ajr/', 'https://visitseattle.org/events/seattle-restaurant-week/', 'https://visitseattle.org/events/disneys-aladdin/', 'https://visitseattle.org/events/antarctic-symphony/', 'https://visitseattle.org/events/skagit-valley-tulip-festival/', 'https://visitseattle.org/events/my-dinner-with-sam-2/', 'https://visitseattle.org/events/noah-gellers-playlist/', 'https://visitseattle.org/events/broadway-spectacular/', 'https://visitseattle.org/events/festal-asian-pacific-islander-heritage-month-celebration/', 'https://visitseattle.org/events/opening-day-of-boating-season/', 'https://visitseattle.org/events/jessica-jackson-hutchins-wrecked-and-righteous/', 'https://visitseattle.org/events/the-lion-tells-his-tale/', 'https://visitseattle.org/events/seattle-sounders-fc-vs-la-galaxy/', 'https://visitseattle.org/events/melanie-martinez/', 'https://visitseattle.org/events/festal-spirit-of-africa/', 'https://visitseattle.org/events/guma-gela-part-land-part-sea-all-ancestry/', 'https://visitseattle.org/events/jaune-quick-to-see-smith-memory-map/', 'https://visitseattle.org/events/fat-ham/', 'https://visitseattle.org/events/a-tale-of-peter-rabbit/', 'https://visitseattle.org/events/the-lehman-trilogy/', 'https://visitseattle.org/events/the-untold-story-of-sharks-national-geographic-live/', 'https://visitseattle.org/events/seattle-storm-vs-minnesota-lynx/', 'https://visitseattle.org/events/the-rolling-stones/', 'https://visitseattle.org/events/mother/', 'https://visitseattle.org/events/barber-violin-concerto/', 'https://visitseattle.org/events/festal-a-glimpse-of-china-seattle-chinese-culture-arts-festival/', 'https://visitseattle.org/events/seattle-sounders-fc-vs-vancouver-whitecaps-fc-2/', 'https://visitseattle.org/events/seattle-international-film-festival/', 'https://visitseattle.org/events/u-district-street-fair/', 'https://visitseattle.org/events/madness/', 'https://visitseattle.org/events/seattle-storm-vs-indiana-fever/', 'https://visitseattle.org/events/the-barber-of-seville/', 'https://visitseattle.org/events/seattle-storm-vs-washington-mystics/', 'https://visitseattle.org/events/53rd-annual-northwest-folklife-festival/', 'https://visitseattle.org/events/seattle-sounders-fc-vs-real-salt-lake/', 'https://visitseattle.org/events/caifanes-and-cafe-tacvba/', 'https://visitseattle.org/events/unriveled/', 'https://visitseattle.org/events/honk-fest-west/', 'https://visitseattle.org/events/festal-pagdiriwang-philippine-festival/', 'https://visitseattle.org/events/seattle-storm-vs-phoenix-mercury/', 'https://visitseattle.org/events/festal-indigenous-people-festival/', 'https://visitseattle.org/events/george-balenchines-coppelia/', 'https://visitseattle.org/events/jan-lisiecki-plays-prokofiev/', 'https://visitseattle.org/events/seattle-storm-vs-los-angeles-sparks/', 'https://visitseattle.org/events/third-eye-blind/', 'https://visitseattle.org/events/beethoven-symphony-no-5/', 'https://visitseattle.org/events/elizabeth-malaska-all-be-your-mirror/', 'https://visitseattle.org/events/zootunes-mother-mother-cavetown/', 'https://visitseattle.org/events/zootunes-car-seat-headrest/', 'https://visitseattle.org/events/joshua-bell-plays-elements-concerto/', 'https://visitseattle.org/events/festal-seattle-iranian-festival/', 'https://visitseattle.org/events/seattle-sounders-fc-vs-minnesota-united-fc/', 'https://visitseattle.org/events/together-again-again/', 'https://visitseattle.org/events/2024-kpmg-womens-pga-championship/', 'https://visitseattle.org/events/fremont-fair/', 'https://visitseattle.org/events/lip-sync-for-our-rights/', 'https://visitseattle.org/events/seattle-storm-vs-connecticut-sun/', 'https://visitseattle.org/events/seattle-storm-vs-indiana-fever-2/', 'https://visitseattle.org/events/company/', 'https://visitseattle.org/events/seattle-storm-vs-dallas-wings/', 'https://visitseattle.org/events/sounders-fc-vs-chicago-fire-fc/', 'https://visitseattle.org/events/2024-university-of-washington-mfa-mdes-thesis-exhibition/', 'https://visitseattle.org/events/spring-awakening/', 'https://visitseattle.org/events/girl-from-the-north-country/', 'https://visitseattle.org/events/50th-annual-seattle-pride-parade-2024/', 'https://visitseattle.org/events/seattle-storm-vs-dallas-wings-2/', 'https://visitseattle.org/events/amazon-seafair-summer-fourth/', 'https://visitseattle.org/events/seattle-storm-vs-chicago-sky/', 'https://visitseattle.org/events/seattle-sounders-fc-vs-new-england-revolution/', 'https://visitseattle.org/events/anida-yoeu-ali-hybrid-skin-mythical-presence/', 'https://visitseattle.org/events/seattle-storm-vs-chicago-sky-2/', 'https://visitseattle.org/events/seattle-storm-vs-las-vegas-aces/', 'https://visitseattle.org/events/seattle-storm-vs-minnesota-lynx-2/', 'https://visitseattle.org/events/festal-polish-festival-seattle/', 'https://visitseattle.org/events/kenny-chesney-with-zac-brown-band/', 'https://visitseattle.org/events/ballard-seafoodfest/', 'https://visitseattle.org/events/day-in-day-out-festival/', 'https://visitseattle.org/events/seattle-storm-vs-atlanta-dream/', 'https://visitseattle.org/events/seattle-sounders-fc-vs-st-louis-sc/', 'https://visitseattle.org/events/seattle-sounders-fc-vs-los-angeles-fc/', 'https://visitseattle.org/events/nordic-utopia-african-americans-in-the-20th-century/', 'https://visitseattle.org/events/clue/', 'https://visitseattle.org/events/35th-annual-seafair-indian-days-powwow/', 'https://visitseattle.org/events/capitol-hill-block-party/', 'https://visitseattle.org/events/seafair-triathlon/', 'https://visitseattle.org/events/zootunes-the-roots/', 'https://visitseattle.org/events/zootunes-violent-femmes/', 'https://visitseattle.org/events/alaska-airlines-torchlight-parade/', 'https://visitseattle.org/events/be-water-my-friend-the-teachings-of-bruce-lee/', 'https://visitseattle.org/events/seattle-art-fair/', 'https://visitseattle.org/events/festal-seattle-arab-festival/', 'https://visitseattle.org/events/zootunes-norah-jones/', 'https://visitseattle.org/events/zootunes-the-decemberists/', 'https://visitseattle.org/events/boeing-seafair-air-show/', 'https://visitseattle.org/events/seafair-weekend-festival/', 'https://visitseattle.org/events/olivia-rodrigo/', 'https://visitseattle.org/events/seattle-festival-of-dance-improvisation/', 'https://visitseattle.org/events/festal-tibet-fest/', 'https://visitseattle.org/events/zootunes-sierra-ferrell/', 'https://visitseattle.org/events/zootunes-the-japanese-house/', 'https://visitseattle.org/events/zootunes-built-to-spill/', 'https://visitseattle.org/events/festal-brasilfest/', 'https://visitseattle.org/events/zootunes-waxahatchee/', 'https://visitseattle.org/events/zootunes-alvvays/', 'https://visitseattle.org/events/elle-king/', 'https://visitseattle.org/events/festal-festival-sundiata-presents-black-arts-fest/', 'https://visitseattle.org/events/seattle-storm-vs-washington-mystics-2/', 'https://visitseattle.org/events/seattle-storm-vs-atlanta-dream-2/', 'https://visitseattle.org/events/seattle-storm-vs-new-york-liberty/', 'https://visitseattle.org/events/hidden-worlds-the-films-of-laika/', 'https://visitseattle.org/events/metallica/', 'https://visitseattle.org/events/poke-in-the-eye-art-of-the-west-coast-counterculture/', 'https://visitseattle.org/events/chicago-and-earth-wind-fire/', 'https://visitseattle.org/events/seattle-storm-vs-phoenix-mercury-2/', 'https://visitseattle.org/events/sum-41/', 'https://visitseattle.org/events/festal-live-aloha-hawaiian-cultural-festival/', 'https://visitseattle.org/events/sound-check-the-music-we-make/', 'https://visitseattle.org/events/2024-apple-cup/', 'https://visitseattle.org/events/festal-sea-mar-fiestas-patrias/', 'https://visitseattle.org/events/seattle-sounders-fc-vs-sporting-kansas-city/']\n"
     ]
    }
   ],
   "source": [
    "events = []\n",
    "for x in range(1,36):\n",
    "    # time.sleep(1)\n",
    "    \n",
    "    url = \"https://visitseattle.org/events/page/\" + str(x)\n",
    "    res = requests.get(url)\n",
    "    soup = BeautifulSoup(res.text, \"html.parser\")\n",
    "    selector = \"div.search-result-preview > div > h3 > a\"\n",
    "    a_eles = soup.select(selector)\n",
    "    events_url = [x['href'] for x in a_eles]\n",
    "    events.extend(events_url)\n",
    "print(events)\n",
    "#Create -> Post (buying a ticket)\n",
    "#Read -> Get (viewing a page)\n",
    "#Update -> Put (changing your password)\n",
    "#Delete -> Delete (deleting a tweet)"
   ]
  },
  {
   "cell_type": "code",
   "execution_count": 3,
   "metadata": {},
   "outputs": [
    {
     "data": {
      "text/plain": [
       "315"
      ]
     },
     "execution_count": 3,
     "metadata": {},
     "output_type": "execute_result"
    }
   ],
   "source": [
    "len(events) #count the number of events"
   ]
  },
  {
   "cell_type": "code",
   "execution_count": 4,
   "metadata": {},
   "outputs": [],
   "source": [
    "import csv\n",
    "\n",
    "# Create a CSV file to save the event information\n",
    "csv_file = open('events.csv', 'w', newline='')\n",
    "csv_writer = csv.writer(csv_file)\n",
    "csv_writer.writerow(['Event Name', 'Date', 'Location', 'Type', 'Region', 'Website'])\n",
    "\n",
    "# Loop through each event URL\n",
    "for event_url in events:\n",
    "    res = requests.get(event_url)\n",
    "    soup = BeautifulSoup(res.text, 'html.parser')\n",
    "    \n",
    "    # Extract the event information\n",
    "    event_name = soup.select_one('div.medium-6.columns.event-top > h1').text.strip()\n",
    "    date = soup.select_one('div.medium-6.columns.event-top > h4 > span:nth-child(1)').text.strip()\n",
    "    location = soup.select_one('div.medium-6.columns.event-top > h4 > span:nth-child(2)').text.strip()\n",
    "    type = soup.select_one('div.medium-6.columns.event-top > a:nth-child(3)').text.strip()\n",
    "    region = soup.select_one('div.medium-6.columns.event-top > a:nth-child(4)').text.strip()\n",
    "    website = event_url\n",
    "    \n",
    "    # Write the event information to the CSV file\n",
    "    csv_writer.writerow([event_name, date, location, type, region, website])\n",
    "\n",
    "# Close the CSV file\n",
    "csv_file.close()\n"
   ]
  },
  {
   "cell_type": "code",
   "execution_count": 5,
   "metadata": {},
   "outputs": [
    {
     "name": "stdout",
     "output_type": "stream",
     "text": [
      "CSV file has been updated with latitude and longitude.\n"
     ]
    }
   ],
   "source": [
    "# Open the original CSV file to read event information\n",
    "with open('events.csv', mode='r', newline='') as csv_file:\n",
    "    csv_reader = csv.reader(csv_file)\n",
    "    # Create a list of all rows including headers\n",
    "    rows = list(csv_reader)\n",
    "\n",
    "# Prepare the new rows list with an additional header for Latitude and Longitude\n",
    "new_rows = [rows[0] + ['Latitude', 'Longitude']]\n",
    "\n",
    "# Iterate over the event rows (excluding the header)\n",
    "for row in rows[1:]:\n",
    "    location = row[2]\n",
    "    base_url = \"https://nominatim.openstreetmap.org/search.php\"\n",
    "    query_params = {\n",
    "        \"q\": location,\n",
    "        \"format\": \"jsonv2\"\n",
    "    }\n",
    "    \n",
    "    # Fetch latitude and longitude using Nominatim API\n",
    "    try:\n",
    "        response = requests.get(base_url, params=query_params)\n",
    "        if response.status_code == 200 and len(response.json()) > 0:\n",
    "            data = response.json()[0]\n",
    "            latitude = data.get('lat')\n",
    "            longitude = data.get('lon')\n",
    "        else:\n",
    "            latitude, longitude = 'N/A', 'N/A'  # Use placeholders if no data found\n",
    "    except Exception as e:\n",
    "        print(f\"Error fetching location data for {location}: {e}\")\n",
    "        latitude, longitude = 'Error', 'Error'  # Use error placeholders\n",
    "    \n",
    "    # Append latitude and longitude to the row\n",
    "    new_rows.append(row + [latitude, longitude])\n",
    "\n",
    "# Write the new rows into a new CSV file\n",
    "with open('events_extended.csv', mode='w', newline='') as new_csv_file:\n",
    "    csv_writer = csv.writer(new_csv_file)\n",
    "    csv_writer.writerows(new_rows)\n",
    "\n",
    "print(\"CSV file has been updated with latitude and longitude.\")"
   ]
  },
  {
   "cell_type": "code",
   "execution_count": 6,
   "metadata": {},
   "outputs": [
    {
     "name": "stdout",
     "output_type": "stream",
     "text": [
      "CSV file has been updated with short forecasts.\n"
     ]
    }
   ],
   "source": [
    "from datetime import datetime, timedelta\n",
    "\n",
    "# Function to parse the event date and return the last date if it's a range\n",
    "def parse_event_date(date_str):\n",
    "    # Handle special cases like \"Ongoing\"\n",
    "    if date_str.lower() == 'ongoing':\n",
    "        # Option 1: Return today's date for ongoing events\n",
    "        return datetime.today()\n",
    "        # Option 2: Return a future date if you prefer to fetch forecasts further out\n",
    "        # return datetime.today() + timedelta(days=30)\n",
    "    elif 'through' in date_str:\n",
    "        # Parse the last date from the range \"Now through MM/DD/YYYY\"\n",
    "        last_date_str = date_str.split(' ')[-1]\n",
    "    else:\n",
    "        last_date_str = date_str\n",
    "    \n",
    "    try:\n",
    "        # Convert to datetime object\n",
    "        return datetime.strptime(last_date_str, \"%m/%d/%Y\")\n",
    "    except ValueError:\n",
    "        # Handle other unexpected formats\n",
    "        print(f\"Unrecognized date format: {date_str}\")\n",
    "        # Return a default date or handle as needed\n",
    "        return datetime.today()  # Or any other default date\n",
    "\n",
    "\n",
    "# Function to fetch the short forecast for a given date and coordinates\n",
    "def get_short_forecast(latitude, longitude, event_date):\n",
    "    formatted_date = event_date.strftime(\"%Y-%m-%d\")\n",
    "    weather_api_url = f'http://api.weather.gov/points/{latitude},{longitude}'\n",
    "    \n",
    "    try:\n",
    "        # Set a timeout for the API requests\n",
    "        res = requests.get(weather_api_url, timeout=1)  # Timeout in seconds\n",
    "        if res.status_code == 200:\n",
    "            forecast_url = res.json().get('properties', {}).get('forecast')\n",
    "            if forecast_url:\n",
    "                forecast_res = requests.get(forecast_url, timeout=1)\n",
    "                forecasts = forecast_res.json().get('properties', {}).get('periods', [])\n",
    "                \n",
    "                for forecast in forecasts:\n",
    "                    if formatted_date in forecast['startTime']:\n",
    "                        return forecast['shortForecast']\n",
    "                return 'Weather forecast not found for specific date'\n",
    "            else:\n",
    "                return 'Forecast URL not found'\n",
    "        else:\n",
    "            return f'Weather API response code: {res.status_code}'\n",
    "    except requests.exceptions.RequestException as e:\n",
    "        return f'Error fetching weather data: {e}'\n",
    "\n",
    "\n",
    "# Reading the CSV, updating with shortForecast (this part should replace the relevant section in your script)\n",
    "with open('events_extended.csv', mode='r', newline='') as csv_file, open('events_with_forecast.csv', mode='w', newline='') as output_file:\n",
    "    csv_reader = csv.reader(csv_file)\n",
    "    csv_writer = csv.writer(output_file)\n",
    "    headers = next(csv_reader) + ['ShortForecast']\n",
    "    csv_writer.writerow(headers)\n",
    "\n",
    "    for row in csv_reader:\n",
    "        location = row[2]\n",
    "        event_date_str = row[1]\n",
    "        latitude, longitude = row[-2], row[-1]  # Assuming lat and lon are the last two columns\n",
    "\n",
    "        # Parse the event date\n",
    "        event_date = parse_event_date(event_date_str)\n",
    "        \n",
    "        # Fetch the short forecast if coordinates are available\n",
    "        if latitude != 'N/A' and longitude != 'N/A':\n",
    "            short_forecast = get_short_forecast(latitude, longitude, event_date)\n",
    "        else:\n",
    "            short_forecast = 'N/A'\n",
    "        \n",
    "        # Write the updated row to the new CSV\n",
    "        csv_writer.writerow(row + [short_forecast])\n",
    "\n",
    "print(\"CSV file has been updated with short forecasts.\")\n"
   ]
  },
  {
   "cell_type": "code",
   "execution_count": 7,
   "metadata": {},
   "outputs": [],
   "source": [
    "# res = requests.get('http://api.weather.gov/points/47.6062,-122.3321')\n",
    "# point_dict = res.json()\n",
    "# res = point_dict['properties']['forecast']\n",
    "# res = requests.get(res)\n",
    "# res.json()\n",
    "# res.json()['properties']['periods']"
   ]
  },
  {
   "cell_type": "code",
   "execution_count": 8,
   "metadata": {},
   "outputs": [
    {
     "data": {
      "text/plain": [
       "200"
      ]
     },
     "execution_count": 8,
     "metadata": {},
     "output_type": "execute_result"
    }
   ],
   "source": [
    "# 200 = OK\n",
    "# 201 = Created(after a post request)\n",
    "# 300 = Redirect \n",
    "# 301 = permanent redirect\n",
    "# 302 = temporary redirect\n",
    "# 400 = bad request (404 = not found)\n",
    "# 500 = internal server error (503 = service unavailable)\n",
    "res.status_code"
   ]
  }
 ],
 "metadata": {
  "kernelspec": {
   "display_name": "base",
   "language": "python",
   "name": "python3"
  },
  "language_info": {
   "codemirror_mode": {
    "name": "ipython",
    "version": 3
   },
   "file_extension": ".py",
   "mimetype": "text/x-python",
   "name": "python",
   "nbconvert_exporter": "python",
   "pygments_lexer": "ipython3",
   "version": "3.9.12"
  }
 },
 "nbformat": 4,
 "nbformat_minor": 2
}
